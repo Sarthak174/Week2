{
  "cells": [
    {
      "cell_type": "markdown",
      "metadata": {
        "id": "view-in-github",
        "colab_type": "text"
      },
      "source": [
        "<a href=\"https://colab.research.google.com/github/Sarthak174/Week2/blob/main/PythonQ5.ipynb\" target=\"_parent\"><img src=\"https://colab.research.google.com/assets/colab-badge.svg\" alt=\"Open In Colab\"/></a>"
      ]
    },
    {
      "cell_type": "code",
      "source": [
        "def isSparse(matrix):\n",
        "    rows, cols = len(matrix), len(matrix[0])\n",
        "    total_elements = rows * cols\n",
        "    zero_count = 0\n",
        "\n",
        "    for i in range(rows):\n",
        "        for j in range(cols):\n",
        "            if matrix[i][j] == 0:\n",
        "                zero_count += 1\n",
        "\n",
        "    if zero_count > total_elements / 2:\n",
        "        return True\n",
        "    else:\n",
        "        return False\n",
        "\n",
        "\n",
        "# Example matrix\n",
        "matrix = [[0, 0, 3],[0, 0, 0],[4, 0, 0]]\n",
        "\n",
        "print(\"Matrix is Sparse:\", isSparse(matrix))\n",
        "\n",
        "\n",
        "\n",
        "\n",
        "\n"
      ],
      "metadata": {
        "id": "sPnGN9_rTZQG",
        "colab": {
          "base_uri": "https://localhost:8080/"
        },
        "outputId": "431cb354-1908-4ec3-b9e5-882764e0ac4d"
      },
      "execution_count": 7,
      "outputs": [
        {
          "output_type": "stream",
          "name": "stdout",
          "text": [
            "Matrix is Sparse: True\n"
          ]
        }
      ]
    }
  ],
  "metadata": {
    "colab": {
      "toc_visible": true,
      "provenance": [],
      "include_colab_link": true
    },
    "kernelspec": {
      "display_name": "Python 3",
      "name": "python3"
    }
  },
  "nbformat": 4,
  "nbformat_minor": 0
}