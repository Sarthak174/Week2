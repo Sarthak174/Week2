{
  "cells": [
    {
      "cell_type": "markdown",
      "metadata": {
        "id": "view-in-github",
        "colab_type": "text"
      },
      "source": [
        "<a href=\"https://colab.research.google.com/github/Sarthak174/Week2/blob/main/PythonQ3.ipynb\" target=\"_parent\"><img src=\"https://colab.research.google.com/assets/colab-badge.svg\" alt=\"Open In Colab\"/></a>"
      ]
    },
    {
      "cell_type": "code",
      "source": [
        "def diagonalSums(matrix):\n",
        "    n = len(matrix)\n",
        "    primary = 0\n",
        "    secondary = 0\n",
        "\n",
        "    for i in range(n):\n",
        "        primary += matrix[i][i]\n",
        "        secondary += matrix[i][n - i - 1]\n",
        "\n",
        "    return primary, secondary\n",
        "\n",
        "matrix = [[1, 2, 3],[4, 5, 6],[7, 8, 9]]\n",
        "\n",
        "p, s = diagonalSums(matrix)\n",
        "print(\"Primary diagonal sum =\", p)\n",
        "print(\"Secondary diagonal sum =\", s)\n",
        "print(\"Total diagonal sum =\", p + s)\n",
        "\n",
        "\n"
      ],
      "metadata": {
        "id": "sPnGN9_rTZQG",
        "colab": {
          "base_uri": "https://localhost:8080/"
        },
        "outputId": "d957e82e-cd0c-4378-b33e-f7269eeb7ac3"
      },
      "execution_count": 3,
      "outputs": [
        {
          "output_type": "stream",
          "name": "stdout",
          "text": [
            "Primary diagonal sum = 15\n",
            "Secondary diagonal sum = 15\n",
            "Total diagonal sum = 30\n"
          ]
        }
      ]
    }
  ],
  "metadata": {
    "colab": {
      "toc_visible": true,
      "provenance": [],
      "include_colab_link": true
    },
    "kernelspec": {
      "display_name": "Python 3",
      "name": "python3"
    }
  },
  "nbformat": 4,
  "nbformat_minor": 0
}