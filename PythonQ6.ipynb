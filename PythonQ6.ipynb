{
  "cells": [
    {
      "cell_type": "markdown",
      "metadata": {
        "id": "view-in-github",
        "colab_type": "text"
      },
      "source": [
        "<a href=\"https://colab.research.google.com/github/Sarthak174/Week2/blob/main/PythonQ6.ipynb\" target=\"_parent\"><img src=\"https://colab.research.google.com/assets/colab-badge.svg\" alt=\"Open In Colab\"/></a>"
      ]
    },
    {
      "cell_type": "code",
      "source": [
        "def addPolynomials(p1, p2):\n",
        "    # Make lengths equal by padding with zeros\n",
        "    length = max(len(p1), len(p2))\n",
        "    p1 = p1 + [0] * (length - len(p1))\n",
        "    p2 = p2 + [0] * (length - len(p2))\n",
        "\n",
        "    result = [p1[i] + p2[i] for i in range(length)]\n",
        "    return result\n",
        "\n",
        "\n",
        "p1 = [5, 4, 3]\n",
        "p2 = [6, 0, 2]\n",
        "\n",
        "sum_poly = addPolynomials(p1, p2)\n",
        "\n",
        "print(\"Result coefficients (constant first):\", sum_poly)\n",
        "\n",
        "\n",
        "\n",
        "\n",
        "\n",
        "\n"
      ],
      "metadata": {
        "id": "sPnGN9_rTZQG",
        "colab": {
          "base_uri": "https://localhost:8080/"
        },
        "outputId": "23004710-e0f4-4a60-8c7e-9dd7565a3421"
      },
      "execution_count": 8,
      "outputs": [
        {
          "output_type": "stream",
          "name": "stdout",
          "text": [
            "Result coefficients (constant first): [11, 4, 5]\n"
          ]
        }
      ]
    }
  ],
  "metadata": {
    "colab": {
      "toc_visible": true,
      "provenance": [],
      "include_colab_link": true
    },
    "kernelspec": {
      "display_name": "Python 3",
      "name": "python3"
    }
  },
  "nbformat": 4,
  "nbformat_minor": 0
}