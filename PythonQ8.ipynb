{
  "cells": [
    {
      "cell_type": "markdown",
      "metadata": {
        "id": "view-in-github",
        "colab_type": "text"
      },
      "source": [
        "<a href=\"https://colab.research.google.com/github/Sarthak174/Week2/blob/main/PythonQ8.ipynb\" target=\"_parent\"><img src=\"https://colab.research.google.com/assets/colab-badge.svg\" alt=\"Open In Colab\"/></a>"
      ]
    },
    {
      "cell_type": "code",
      "source": [
        "def dynamicArray(n, queries):\n",
        "\n",
        "    last_answer = 0\n",
        "\n",
        "    seq = [[] for _ in range(n)]\n",
        "\n",
        "    for q in queries:\n",
        "\n",
        "        op, x, y = q\n",
        "\n",
        "        if op == 1:\n",
        "\n",
        "            seq[(x ^ last_answer) % n].append(y)\n",
        "\n",
        "        elif op == 2:\n",
        "\n",
        "            s = seq[(x ^ last_answer) % n]\n",
        "\n",
        "            last_answer = s[y % len(s)]\n",
        "\n",
        "            print(last_answer)\n",
        "\n",
        "if __name__ == '__main__':\n",
        "\n",
        "    n, q = map(int, input().split())\n",
        "\n",
        "    queries = []\n",
        "\n",
        "    for _ in range(q):\n",
        "\n",
        "        queries.append(list(map(int, input().split())))\n",
        "\n",
        "    dynamicArray(n, queries)\n",
        "\n",
        "\n",
        "\n",
        "\n",
        "\n",
        "\n",
        "\n",
        "\n"
      ],
      "metadata": {
        "id": "sPnGN9_rTZQG",
        "colab": {
          "base_uri": "https://localhost:8080/"
        },
        "outputId": "63488061-0ab2-442a-da40-011856e19bed"
      },
      "execution_count": 11,
      "outputs": [
        {
          "output_type": "stream",
          "name": "stdout",
          "text": [
            "2 5\n",
            "1 0 5\n",
            "1 1 7\n",
            "1 0 3 \n",
            "2 1 0\n",
            "2 1 1\n",
            "7\n",
            "3\n"
          ]
        }
      ]
    }
  ],
  "metadata": {
    "colab": {
      "toc_visible": true,
      "provenance": [],
      "include_colab_link": true
    },
    "kernelspec": {
      "display_name": "Python 3",
      "name": "python3"
    }
  },
  "nbformat": 4,
  "nbformat_minor": 0
}