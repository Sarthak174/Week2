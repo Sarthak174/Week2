{
  "cells": [
    {
      "cell_type": "markdown",
      "metadata": {
        "id": "view-in-github",
        "colab_type": "text"
      },
      "source": [
        "<a href=\"https://colab.research.google.com/github/Sarthak174/Week2/blob/main/PythonQ7.ipynb\" target=\"_parent\"><img src=\"https://colab.research.google.com/assets/colab-badge.svg\" alt=\"Open In Colab\"/></a>"
      ]
    },
    {
      "cell_type": "code",
      "source": [
        "def multiplyPoly(A, B):\n",
        "    m, n = len(A), len(B)\n",
        "    # Resultant polynomial will have degree (m+n-2), so size = m+n-1\n",
        "    result = [0] * (m + n - 1)\n",
        "\n",
        "    for i in range(m):\n",
        "        for j in range(n):\n",
        "            result[i + j] += A[i] * B[j]\n",
        "\n",
        "    return result\n",
        "\n",
        "\n",
        "A = [2, 3, 4]\n",
        "B = [1, 5]\n",
        "\n",
        "res = multiplyPoly(A, B)\n",
        "print(\"Resultant polynomial coefficients:\", res)\n",
        "\n",
        "\n",
        "\n",
        "\n",
        "\n",
        "\n",
        "\n"
      ],
      "metadata": {
        "id": "sPnGN9_rTZQG",
        "colab": {
          "base_uri": "https://localhost:8080/"
        },
        "outputId": "30fff473-ccab-4d02-8e8c-95ef09c5fef6"
      },
      "execution_count": 9,
      "outputs": [
        {
          "output_type": "stream",
          "name": "stdout",
          "text": [
            "Resultant polynomial coefficients: [2, 13, 19, 20]\n"
          ]
        }
      ]
    }
  ],
  "metadata": {
    "colab": {
      "toc_visible": true,
      "provenance": [],
      "include_colab_link": true
    },
    "kernelspec": {
      "display_name": "Python 3",
      "name": "python3"
    }
  },
  "nbformat": 4,
  "nbformat_minor": 0
}