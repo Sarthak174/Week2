{
  "cells": [
    {
      "cell_type": "markdown",
      "metadata": {
        "id": "view-in-github",
        "colab_type": "text"
      },
      "source": [
        "<a href=\"https://colab.research.google.com/github/Sarthak174/Week2/blob/main/PythonQ2.ipynb\" target=\"_parent\"><img src=\"https://colab.research.google.com/assets/colab-badge.svg\" alt=\"Open In Colab\"/></a>"
      ]
    },
    {
      "cell_type": "code",
      "source": [
        "def rotate90(matrix):\n",
        "    matrix = [list(row) for row in zip(*matrix)]\n",
        "    for row in matrix:\n",
        "        row.reverse()\n",
        "    return matrix\n",
        "\n",
        "matrix = [[1, 2, 3],[4, 5, 6],[7, 8, 9]]\n",
        "\n",
        "rotated = rotate90(matrix)\n",
        "\n",
        "print(\"Rotated 90° clockwise:\")\n",
        "for row in rotated:\n",
        "    print(row)\n",
        "\n"
      ],
      "metadata": {
        "id": "sPnGN9_rTZQG",
        "colab": {
          "base_uri": "https://localhost:8080/"
        },
        "outputId": "84b1d0a9-2919-48d9-b7d8-a17e56dd5de8"
      },
      "execution_count": 2,
      "outputs": [
        {
          "output_type": "stream",
          "name": "stdout",
          "text": [
            "Rotated 90° clockwise:\n",
            "[7, 4, 1]\n",
            "[8, 5, 2]\n",
            "[9, 6, 3]\n"
          ]
        }
      ]
    }
  ],
  "metadata": {
    "colab": {
      "toc_visible": true,
      "provenance": [],
      "include_colab_link": true
    },
    "kernelspec": {
      "display_name": "Python 3",
      "name": "python3"
    }
  },
  "nbformat": 4,
  "nbformat_minor": 0
}