{
  "cells": [
    {
      "cell_type": "markdown",
      "metadata": {
        "id": "view-in-github",
        "colab_type": "text"
      },
      "source": [
        "<a href=\"https://colab.research.google.com/github/Sarthak174/Week2/blob/main/PythonQ1.ipynb\" target=\"_parent\"><img src=\"https://colab.research.google.com/assets/colab-badge.svg\" alt=\"Open In Colab\"/></a>"
      ]
    },
    {
      "cell_type": "code",
      "source": [
        "def printSpiral(matrix):\n",
        "    if not matrix:\n",
        "        return\n",
        "\n",
        "    top, bottom = 0, len(matrix) - 1\n",
        "    left, right = 0, len(matrix[0]) - 1\n",
        "\n",
        "    while top <= bottom and left <= right:\n",
        "        # Print top row\n",
        "        for i in range(left, right + 1):\n",
        "            print(matrix[top][i], end=\" \")\n",
        "        top += 1\n",
        "\n",
        "        # Print right column\n",
        "        for i in range(top, bottom + 1):\n",
        "            print(matrix[i][right], end=\" \")\n",
        "        right -= 1\n",
        "\n",
        "        # Print bottom row\n",
        "        if top <= bottom:\n",
        "            for i in range(right, left - 1, -1):\n",
        "                print(matrix[bottom][i], end=\" \")\n",
        "            bottom -= 1\n",
        "\n",
        "        # Print left column\n",
        "        if left <= right:\n",
        "            for i in range(bottom, top - 1, -1):\n",
        "                print(matrix[i][left], end=\" \")\n",
        "            left += 1\n",
        "\n",
        "\n",
        "# Example 3x3 matrix\n",
        "matrix = [\n",
        "    [1, 2, 3],\n",
        "    [4, 5, 6],\n",
        "    [7, 8, 9]\n",
        "]\n",
        "\n",
        "print(\"Spiral Order:\")\n",
        "printSpiral(matrix)\n"
      ],
      "metadata": {
        "id": "sPnGN9_rTZQG",
        "colab": {
          "base_uri": "https://localhost:8080/"
        },
        "outputId": "e6b83e64-fd6c-4bf2-b6bb-bd897158e3ce"
      },
      "execution_count": 1,
      "outputs": [
        {
          "output_type": "stream",
          "name": "stdout",
          "text": [
            "Spiral Order:\n",
            "1 2 3 6 9 8 7 4 5 "
          ]
        }
      ]
    }
  ],
  "metadata": {
    "colab": {
      "toc_visible": true,
      "provenance": [],
      "include_colab_link": true
    },
    "kernelspec": {
      "display_name": "Python 3",
      "name": "python3"
    }
  },
  "nbformat": 4,
  "nbformat_minor": 0
}