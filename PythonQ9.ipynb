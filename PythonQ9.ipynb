{
  "cells": [
    {
      "cell_type": "markdown",
      "metadata": {
        "id": "view-in-github",
        "colab_type": "text"
      },
      "source": [
        "<a href=\"https://colab.research.google.com/github/Sarthak174/Week2/blob/main/PythonQ9.ipynb\" target=\"_parent\"><img src=\"https://colab.research.google.com/assets/colab-badge.svg\" alt=\"Open In Colab\"/></a>"
      ]
    },
    {
      "cell_type": "code",
      "source": [
        "def isIdentity(matrix):\n",
        "    rows, cols = len(matrix), len(matrix[0])\n",
        "\n",
        "    # Must be square\n",
        "    if rows != cols:\n",
        "        return False\n",
        "\n",
        "    for i in range(rows):\n",
        "        for j in range(cols):\n",
        "            if i == j and matrix[i][j] != 1:   # diagonal should be 1\n",
        "                return False\n",
        "            elif i != j and matrix[i][j] != 0: # non-diagonal should be 0\n",
        "                return False\n",
        "    return True\n",
        "\n",
        "\n",
        "matrix1 = [[1, 0, 0],[0, 1, 0],[0, 0, 1]]\n",
        "\n",
        "\n",
        "matrix2 = [[1, 0, 0],[0, 2, 0],[0, 0, 1]]\n",
        "\n",
        "print(\"Matrix1 is Identity:\", isIdentity(matrix1))\n",
        "print(\"Matrix2 is Identity:\", isIdentity(matrix2))\n",
        "\n",
        "\n",
        "\n",
        "\n",
        "\n",
        "\n",
        "\n",
        "\n"
      ],
      "metadata": {
        "id": "sPnGN9_rTZQG",
        "colab": {
          "base_uri": "https://localhost:8080/"
        },
        "outputId": "df8d6ec0-4721-4898-f9bc-62a74d1ceed2"
      },
      "execution_count": 10,
      "outputs": [
        {
          "output_type": "stream",
          "name": "stdout",
          "text": [
            "Matrix1 is Identity: True\n",
            "Matrix2 is Identity: False\n"
          ]
        }
      ]
    }
  ],
  "metadata": {
    "colab": {
      "toc_visible": true,
      "provenance": [],
      "include_colab_link": true
    },
    "kernelspec": {
      "display_name": "Python 3",
      "name": "python3"
    }
  },
  "nbformat": 4,
  "nbformat_minor": 0
}